{
 "cells": [
  {
   "cell_type": "markdown",
   "id": "98eee267",
   "metadata": {},
   "source": [
    "# Working with gravitational-wave detector data\n",
    "\n",
    "We have seen what gravitational waves (GWs) are and how they may be detected, and also what data are publicly available ('open') for you to access.\n",
    "But what can you do with the data? And how?\n",
    "\n",
    "[GWpy](https://gwpy.github.io) is a general-purpose Python package for accessing and studying data from gravitational-wave detectors.\n",
    "The project was created in Cardiff, but is now a key component in the majority of Python-based GW data analysis software workflows.\n",
    "\n",
    "In this tutorial, we will see how to download open data from [GWOSC](https://gw-openscience.org) and manipulate them to study the properties of events that emitted gravitational waves."
   ]
  },
  {
   "cell_type": "markdown",
   "id": "0de0be2a",
   "metadata": {},
   "source": [
    "## Installing GWpy\n",
    "\n",
    "First, we need to install it, using [`pip`](https://pip.pypa.io/) as we did before:"
   ]
  },
  {
   "cell_type": "code",
   "execution_count": null,
   "id": "08f4f020",
   "metadata": {},
   "outputs": [],
   "source": [
    "# this is just a fancy version of 'pip install gwpy' for use inside a jupyter notebook\n",
    "# NOTE: we (might) need to update `ipykernel` to handle an update to `matplotlib`\n",
    "import sys\n",
    "!{sys.executable} -m pip install --quiet \"gwpy==2.0.4\" \"ipykernel>=5.2.0\""
   ]
  },
  {
   "cell_type": "markdown",
   "id": "5cd07e94",
   "metadata": {},
   "source": [
    "## Restart the kernel runtime\n",
    "\n",
    "The above command may have updated many packages needed for the jupyter notebook itself to operate, so at this point we should **restart the kernel runtime**.\n",
    "\n",
    "1. Click _Kernel_ (called _Runtime_ on google colab) in the top menu bar\n",
    "2. Select _Restart_ (_Restart runtime_ on google colab)"
   ]
  },
  {
   "cell_type": "markdown",
   "id": "a82416e2",
   "metadata": {},
   "source": [
    "##  Validate GWpy:\n",
    "\n",
    "Now that we have installed (and maybe restarted the kernel to update the environment), we can validate that our GWpy installation worked:"
   ]
  },
  {
   "cell_type": "code",
   "execution_count": null,
   "id": "a806d389",
   "metadata": {},
   "outputs": [],
   "source": [
    "import gwpy\n",
    "help(gwpy)"
   ]
  },
  {
   "cell_type": "markdown",
   "id": "50d8acbc",
   "metadata": {},
   "source": [
    "## How can I use GWpy to actually get to the data?\n",
    "\n",
    "We have seen how the [`gwosc`](https://gwosc.readthedocs.io/) Python package can be used to discover what datasets are available.\n",
    "GWpy builds on this by providing methods to download the actual data with a minimum of information required."
   ]
  },
  {
   "cell_type": "markdown",
   "id": "33f23f18",
   "metadata": {},
   "source": [
    "### Downloading tables of event parameters\n",
    "\n",
    "The first thing we can do is to download tables of the events that have been discovered.\n",
    "We do this using the [`gwpy.table.EventTable`](https://gwpy.github.io/docs/stable/table/) object, and the special [`fetch_open_data`](https://gwpy.github.io/docs/stable/table/gwosc.html) method it comes with:"
   ]
  },
  {
   "cell_type": "code",
   "execution_count": null,
   "id": "fab17b02",
   "metadata": {},
   "outputs": [],
   "source": [
    "from gwpy.table import EventTable\n",
    "events = EventTable.fetch_open_data(\"GWTC\")\n",
    "display(events)"
   ]
  },
  {
   "cell_type": "markdown",
   "id": "0f7f21e3",
   "metadata": {},
   "source": [
    "Here we have 50 events from combined [Gravitational Wave Transient Catalogue (GWTC)](https://www.gw-openscience.org/eventapi/html/GWTC/).\n",
    "\n",
    "A big table isn't very easy to use, but we can use our `events` object and make a few plots to see what we can infer:"
   ]
  },
  {
   "cell_type": "code",
   "execution_count": null,
   "id": "7240d2f0",
   "metadata": {},
   "outputs": [],
   "source": [
    "# we do this now, and only once, so that the plots show up inline in the notebook,\n",
    "# you don't need to do this outside of jupyter\n",
    "%matplotlib inline"
   ]
  },
  {
   "cell_type": "code",
   "execution_count": null,
   "id": "a916fa5d",
   "metadata": {},
   "outputs": [],
   "source": [
    "mass_vs_time_plot = events.scatter(\"GPS\", \"luminosity_distance\", xscale=\"auto-gps\")"
   ]
  },
  {
   "cell_type": "markdown",
   "id": "974bf1d5",
   "metadata": {},
   "source": [
    "Here we can see the first few events on the left from the first Observing run ([O1](https://www.gw-openscience.org/O1/), September 2015 -- January 2016), then a few more from [O2](https://www.gw-openscience.org/O2/) (November 2016 -- August 2017), then even more from [O3](https://www.gw-openscience.org/O3) (April 2019 -- March 2020).\n",
    "\n",
    "We can also see the impact of the increasing sensitivity of the detector network from one run to the next run, with many detections coming from larger distances that we weren't senstitive to before.\n",
    "\n",
    "<div class=\"alert alert-info\">\n",
    "Outside of a jupyter notebook we would have to include a manual function/method call to actually display the figure, for this example that would be <code>mass_vs_time_plot.show()</code>, the <code>%matplotlib inline</code> magic takes care of that for us inside the notebook environment.\n",
    "</div>\n",
    "\n",
    "Let's try something else:"
   ]
  },
  {
   "cell_type": "code",
   "execution_count": null,
   "id": "3cab633b",
   "metadata": {},
   "outputs": [],
   "source": [
    "# plot mass1 vs mass2\n",
    "m1m2_plot = events.scatter(\"mass_1_source\", \"mass_2_source\")\n",
    "# add a line representing 'equal mass' (mass1=mass2)\n",
    "axes = m1m2_plot.gca()  # gca == \"get current axes\"\n",
    "axes.plot([0, 100], [0, 100], \"r-\", label=\"equal mass line\")\n",
    "axes.legend()"
   ]
  },
  {
   "cell_type": "markdown",
   "id": "8c60efd2",
   "metadata": {},
   "source": [
    "Here we see the distribution of masses in our detection sample.\n",
    "By convention `mass_1` is always the heavier of the two masses, and the `_source` suffix means that these numbers represent the 'real' mass of the object in the source frame, i.e. after accounting for signal distortions due to redshift.\n",
    "\n",
    "We can see that most of the signals are near equal mass (`mass_1_source = mass_2_source`), but a few have a large _mass ratio_ where the large body is significantly larger than the smaller one.\n",
    "\n",
    "<div class=\"alert alert-info\">This catalogue does not (yet) include the very latest results announced last month, including detections of so-called 'mixed' merged (one black hole merging with one neutron star).</div>\n",
    "\n",
    "Finally we can visualise the distribution of total mass (`mass1 + mass2`) as a function of distance:"
   ]
  },
  {
   "cell_type": "code",
   "execution_count": null,
   "id": "a29e0d35",
   "metadata": {},
   "outputs": [],
   "source": [
    "mass_vs_distance = events.scatter(\"luminosity_distance\", \"total_mass_source\")"
   ]
  },
  {
   "cell_type": "markdown",
   "id": "83b55e84",
   "metadata": {},
   "source": [
    "Here we can see a general trend towards heavier merger events being detected from further away.\n",
    "This is in general because the current GW detectors are more sensitive to higher-mass events, and so can detect them from further distances - and further distances represents a significantly large volume of space so more events happen at larger distances (per unit volume, per unit time)."
   ]
  },
  {
   "cell_type": "markdown",
   "id": "6cfae9d3",
   "metadata": {},
   "source": [
    "### Downloading detector data for an event\n",
    "\n",
    "Now that we have seen the distribution of events, and how the various parameters may (or may not) be correlated, we can investigate the detector data for a single event.\n",
    "\n",
    "To support this, GWpy provides a [`TimeSeries`](https://gwpy.github.io/docs/stable/timeseries/) object to represent a time-stream of detector data, which comes with a `fetch_open_data` method we can call to download data directly from GWOSC.\n",
    "\n",
    "For this example we will use times corresponding to the first ever detection, GW150914."
   ]
  },
  {
   "cell_type": "code",
   "execution_count": null,
   "id": "65254360",
   "metadata": {},
   "outputs": [],
   "source": [
    "from gwosc.datasets import event_gps\n",
    "gps = event_gps(\"GW150914\")\n",
    "print(\"Central GPS time: {}\".format(gps))\n",
    "start, stop = int(gps)-5, int(gps) + 5\n",
    "print(\"Data start: {}\".format(start))\n",
    "print(\"Data stop: {}\".format(stop))"
   ]
  },
  {
   "cell_type": "code",
   "execution_count": null,
   "id": "431d5628",
   "metadata": {},
   "outputs": [],
   "source": [
    "# import the Gwpy TimeSeries object\n",
    "from gwpy.timeseries import TimeSeries\n",
    "# and call the fetch_open_data method to download data for LIGO-Hanford\n",
    "# notes:\n",
    "#   - we use the `verbose=True` argument to show what's going on\n",
    "data = TimeSeries.fetch_open_data('H1', start, stop, verbose=True)\n",
    "print(data)"
   ]
  },
  {
   "cell_type": "markdown",
   "id": "a42d03fc",
   "metadata": {},
   "source": [
    "We can see that we have a `TimeSeries` object, containing an array of data, and some other metadata parameters.\n",
    "\n",
    "<div class=\"alert alert-info\">\n",
    "    The data we have downloaded are not stored permanently anywhere on your machine, so if you run the same command again, the data will be downloaded again. You can prevent this by specifying <code>cache=True</code> when calling <code>TimeSeries.fetch_open_data</code> to store a copy of the data on your machine.\n",
    "For technical reasons, the data will be stored under <code>~/.astropy/cache</code>.\n",
    "</div>\n",
    "\n",
    "We can now make a plot of the data simply by calling [`data.plot()`](https://gwpy.github.io/docs/stable/timeseries/plot.html):"
   ]
  },
  {
   "cell_type": "code",
   "execution_count": null,
   "id": "0f9db83c",
   "metadata": {},
   "outputs": [],
   "source": [
    "plot = data.plot()"
   ]
  },
  {
   "cell_type": "markdown",
   "id": "335457fc",
   "metadata": {},
   "source": [
    "We see a 10-second span of wiggles. By eye we can see roughly 8 or 10 oscillations per second, suggesting that the data are dominated by very low frequency (<1 Hz) contributions.\n",
    "As we heard in the introduction notebook, gravitational waves from binary black holes typically merge at tens or hundreds of Hertz, and neutron stars at even higher frequencies, so this noise is almost certainly not from gravitational waves."
   ]
  },
  {
   "cell_type": "markdown",
   "id": "e397ea38",
   "metadata": {},
   "source": [
    "### Studying GW detector data in the frequency domain\n",
    "\n",
    "Because of this noise, direct analysis of GW detector data in the time domain like this is often not very helpful.\n",
    "Typically we use the [Fourier transform](https://en.wikipedia.org/wiki/Fourier_transform) to expose the frequency-domain content of our time-domain signal, allowing us to see which frequencies contain lots of power, and which have less.\n",
    "\n",
    "We can calculate our Fourier transform using the [`.fft()`](https://gwpy.github.io/docs/stable/api/gwpy.timeseries.TimeSeries.html#gwpy.timeseries.TimeSeries.fft) method, which uses the underlying [`numpy.fft`](https://numpy.org/doc/stable/reference/routines.fft.html) implementation of the [Fast Fourier Transform](https://en.wikipedia.org/wiki/Fast_Fourier_transform) algorithm:"
   ]
  },
  {
   "cell_type": "code",
   "execution_count": null,
   "id": "32e0445b",
   "metadata": {},
   "outputs": [],
   "source": [
    "fft = data.fft()\n",
    "print(fft)"
   ]
  },
  {
   "cell_type": "markdown",
   "id": "c92d58e8",
   "metadata": {},
   "source": [
    "The result is a [`FrequencySeries`](https://gwpy.github.io/docs/stable/frequencyseries/), with complex amplitude, representing the amplitude and phase of each frequency in our data. We can use `.abs()` to extract the amplitude and plot that:"
   ]
  },
  {
   "cell_type": "code",
   "execution_count": null,
   "id": "52fb59ef",
   "metadata": {},
   "outputs": [],
   "source": [
    "plot = fft.abs().plot(xscale=\"log\", yscale=\"log\")"
   ]
  },
  {
   "cell_type": "markdown",
   "id": "6cd86a2c",
   "metadata": {},
   "source": [
    "This doesn't look correct at all!\n",
    "The problem is that the FFT works under the assumption that our data are periodic, which means that the edges of our data look like discontinuities when transformed.\n",
    "We need to apply a window function to our time-domain data before transforming, which we can do using the scipy.signal module:"
   ]
  },
  {
   "cell_type": "code",
   "execution_count": null,
   "id": "cfb2e54b",
   "metadata": {},
   "outputs": [],
   "source": [
    "from scipy.signal import get_window\n",
    "window = get_window('hann', data.size)\n",
    "windowed = data * window"
   ]
  },
  {
   "cell_type": "markdown",
   "id": "3cfb5375",
   "metadata": {},
   "source": [
    "Let's try our transform again and see what we get"
   ]
  },
  {
   "cell_type": "code",
   "execution_count": null,
   "id": "ee1a7aa3",
   "metadata": {},
   "outputs": [],
   "source": [
    "fftamp = windowed.fft().abs()\n",
    "plot = fftamp.plot(xscale=\"log\", yscale=\"log\")"
   ]
  },
  {
   "cell_type": "markdown",
   "id": "67785002",
   "metadata": {},
   "source": [
    "This looks a little more like what we expect for the amplitude spectral density of a gravitational-wave detector."
   ]
  },
  {
   "cell_type": "markdown",
   "id": "78841d54",
   "metadata": {},
   "source": [
    "In practice, we typically use a large number of FFTs to estimate an average power spectral density over a long period of data. We can do this using the [`.asd()`](https://gwpy.github.io/docs/stable/api/gwpy.timeseries.TimeSeries.html#gwpy.timeseries.TimeSeries.asd) method, which uses [Welch's method](https://en.wikipedia.org/wiki/Welch%27s_method) to combine FFTs of overlapping, windowed chunks of data.\n",
    "The `method=\"median\"` argument tells the `.asd()` method to use a median average of overlapping chunks, as opposed to a mean average, which is easily corrupted by large outliers."
   ]
  },
  {
   "cell_type": "code",
   "execution_count": null,
   "id": "fa04c8fe",
   "metadata": {},
   "outputs": [],
   "source": [
    "asd = data.asd(fftlength=4, method=\"median\")\n",
    "plot = asd.plot()"
   ]
  },
  {
   "cell_type": "markdown",
   "id": "30991c01",
   "metadata": {},
   "source": [
    "The ASD is a standard tool used to study the frequency-domain sensitivity of a gravitational-wave detector. For the LIGO-Hanford data we loaded, we can see large spikes at certain frequencies, including\n",
    "\n",
    "- ~300 Hz\n",
    "- ~500 Hz\n",
    "- ~1000 Hz\n",
    "\n",
    "The [O2 spectral lines](https://www.gw-openscience.org/o2speclines/) page from GWOSC describes a number of these spectral features for O2, with some of them being forced upon us, and some being deliberately introduced to help with interferometer control.\n",
    "\n",
    "We can improve the resolution of our ASD by using more data, which averages out random variations.\n",
    "In the next cell we do this for a different (more recent) event, [GW190814](https://www.gw-openscience.org/eventapi/html/GWTC-2/GW190814/), whilst also loading the data for all three detectors in the network:"
   ]
  },
  {
   "cell_type": "code",
   "execution_count": null,
   "id": "5fdebdee",
   "metadata": {},
   "outputs": [],
   "source": [
    "# get the GPS time for GW190814\n",
    "gps = event_gps(\"GW190814\")\n",
    "\n",
    "# use a longer time segment\n",
    "longstart, longend = int(gps) - 512, int(gps) + 512\n",
    "\n",
    "# get data for each detector\n",
    "data = {}\n",
    "asd = {}\n",
    "for detector in (\"H1\", \"L1\", \"V1\"):\n",
    "    data[detector] = TimeSeries.fetch_open_data(\n",
    "        detector,\n",
    "        longstart,\n",
    "        longend,\n",
    "        verbose=True,\n",
    "        cache=True,\n",
    "    )\n",
    "    asd[detector] = data[detector].asd(fftlength=8, method=\"median\")\n",
    "\n",
    "# now plot the Hanford data, then add the others\n",
    "plot = asd[\"H1\"].plot(figsize=(8, 6), color=\"gwpy:ligo-hanford\", label=\"LIGO-Hanford\")\n",
    "axes = plot.gca()\n",
    "axes.plot(asd[\"L1\"], color=\"gwpy:ligo-livingston\", label=\"LIGO-Livingston\")\n",
    "axes.plot(asd[\"V1\"], color=\"gwpy:virgo\", label=\"Virgo\")\n",
    "\n",
    "# now finalise the plot\n",
    "axes.set_ylabel(r'Strain noise [$1/\\sqrt{\\mathrm{Hz}}$]')\n",
    "axes.set_xlim(10, 1400)\n",
    "axes.set_ylim(1e-24, 1e-20)\n",
    "axes.legend()"
   ]
  },
  {
   "cell_type": "markdown",
   "id": "173c23f6",
   "metadata": {},
   "source": [
    "Here we can see the variations in sensitivity between the LIGO detectors and Virgo, and also the different features present in the data for each detector."
   ]
  },
  {
   "cell_type": "markdown",
   "id": "4073e903",
   "metadata": {},
   "source": [
    "## Recap\n",
    "\n",
    "In this tutorial we have seen\n",
    "\n",
    "- how to use GWpy to download tables of event parameters, and display them in various formats\n",
    "- how to use GWpy to download data for a detector around the time of an event and display them\n",
    "- how to generate and display an ASD, understanding the importance of windowing and averaging on top of the basic Fourier transform\n",
    "\n",
    "In the next tutorial we will dive a little deeper into how signals may be extracted from noisy data.\n",
    "\n",
    "<a class=\"btn btn-primary\" href=\"./3-SignalProcessing.ipynb\" role=\"button\">Click here</a> to open the next notebook."
   ]
  }
 ],
 "metadata": {
  "kernelspec": {
   "display_name": "Python 3 (ipykernel)",
   "language": "python",
   "name": "python3"
  },
  "language_info": {
   "codemirror_mode": {
    "name": "ipython",
    "version": 3
   },
   "file_extension": ".py",
   "mimetype": "text/x-python",
   "name": "python",
   "nbconvert_exporter": "python",
   "pygments_lexer": "ipython3",
   "version": "3.9.4"
  }
 },
 "nbformat": 4,
 "nbformat_minor": 5
}
