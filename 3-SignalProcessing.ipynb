{
 "cells": [
  {
   "cell_type": "code",
   "execution_count": null,
   "id": "eb2cdfa5",
   "metadata": {},
   "outputs": [],
   "source": [
    "%matplotlib inline"
   ]
  },
  {
   "cell_type": "code",
   "execution_count": null,
   "id": "a2a5b7ac",
   "metadata": {},
   "outputs": [],
   "source": [
    "# we may need to reinstall our software if running in a fresh runtime\n",
    "import sys\n",
    "!{sys.executable} -m pip install --quiet gwosc==0.5.8 gwpy==2.0.4 \"ipykernel>=5.2.0\"\n",
    "# then RESTART THE KERNEL"
   ]
  },
  {
   "cell_type": "markdown",
   "id": "39a5716d",
   "metadata": {},
   "source": [
    "# Signal processing with GW data\n",
    "\n",
    "We have seen in the [previous workbook](./2-GWpy.ipynb) that GW detector data are noisy:"
   ]
  },
  {
   "cell_type": "code",
   "execution_count": null,
   "id": "7b83db40",
   "metadata": {},
   "outputs": [],
   "source": [
    "from gwosc.datasets import event_gps\n",
    "from gwpy.timeseries import TimeSeries\n",
    "gps = event_gps(\"GW150914\")\n",
    "start, stop = int(gps)-5, int(gps) + 5\n",
    "data = TimeSeries.fetch_open_data(\"H1\", start, stop, verbose=True, cache=True)\n",
    "plot = data.plot(\n",
    "    title=\"LIGO-Hanford data around GW150914\",\n",
    "    ylabel=\"Strain amplitude\",\n",
    "    color=\"gwpy:ligo-hanford\",\n",
    ")"
   ]
  },
  {
   "cell_type": "markdown",
   "id": "b4d11a85",
   "metadata": {},
   "source": [
    "There doesn't seem to be anything interesting in there, but there is!\n",
    "The problem is that very low-frequency noises dominate the amplitude in the data, these typically come from so-called '_anthropogenic_' sources such as local vehicle traffic around the observatory, bad weather, and even from the ocean waves hitting the nearest coastline.\n",
    "\n",
    "## Time-domain filtering of GW data\n",
    "\n",
    "In order to extract a real gravitational-wave signal, we need to filter out the noise and amplify the signal.\n",
    "One easy way to do that is to apply 'pass' filters that dampen contributions from certain frequencies ('highpass' dampens low-frequency noise, allowing high frequencies to 'pass' through, for example).\n",
    "In our case we want to use a bandpass filter to extract the middle of the spectrum, eliminating contributions at both extremes.\n",
    "\n",
    "We can do this in GWpy using the `TimeSeries.bandpass` function:"
   ]
  },
  {
   "cell_type": "code",
   "execution_count": null,
   "id": "342bc881",
   "metadata": {},
   "outputs": [],
   "source": [
    "filtered = data.bandpass(50, 250)\n",
    "plot = filtered.plot(\n",
    "    title=\"Bandpass-filtered LIGO-Hanford data around GW150914\",\n",
    "    ylabel=\"Strain amplitude\",\n",
    "    color=\"gwpy:ligo-hanford\",\n",
    ")"
   ]
  },
  {
   "cell_type": "markdown",
   "id": "6329cad3",
   "metadata": {},
   "source": [
    "Now, we can see the overall amplitude is much lower (~1e-21), but there are three clear features. The features at either end of the data are called 'edge effects' that corrupt the start and end of the data where the filters don't work very well.\n",
    "We can just remove those by cropping our data:"
   ]
  },
  {
   "cell_type": "code",
   "execution_count": null,
   "id": "870714cf",
   "metadata": {},
   "outputs": [],
   "source": [
    "filtered = data.bandpass(50, 250).crop(gps-4, gps+4)\n",
    "plot = filtered.plot(\n",
    "    title=\"Bandpass-filtered LIGO-Hanford data around GW150914\",\n",
    "    ylabel=\"Strain amplitude\",\n",
    "    color=\"gwpy:ligo-hanford\",\n",
    ")"
   ]
  },
  {
   "cell_type": "markdown",
   "id": "ae1876ba",
   "metadata": {},
   "source": [
    "Now we can see the central feature much more clearly, this looks like something interesting!\n",
    "We can remove even more noise by recalling the _ASD_ of the LIGO detector noise from last time:"
   ]
  },
  {
   "cell_type": "code",
   "execution_count": null,
   "id": "f8f02c8f",
   "metadata": {},
   "outputs": [],
   "source": [
    "asd = data.asd()\n",
    "plot = asd.plot(\n",
    "    title=\"LIGO-Hanford ASD around GW150914\",\n",
    "    xlim=(50, 250),\n",
    "    ylim=(1e-25, 1e-20),\n",
    "    color=\"gwpy:ligo-hanford\",\n",
    ")"
   ]
  },
  {
   "cell_type": "markdown",
   "id": "eefa72a0",
   "metadata": {},
   "source": [
    "There are a few very narrow lines that have much higher amplitude than the surrounding frequencies.\n",
    "We can filter those out as well by using a notch filter:"
   ]
  },
  {
   "cell_type": "code",
   "execution_count": null,
   "id": "9c0372f4",
   "metadata": {},
   "outputs": [],
   "source": [
    "for frequency in (60, 120, 180):\n",
    "    filtered = filtered.notch(frequency)\n",
    "plot = filtered.plot(\n",
    "    title=\"Bandpass-filtered and notched LIGO-Hanford data around GW150914\",\n",
    "    ylabel=\"Strain amplitude\",\n",
    "    color=\"gwpy:ligo-hanford\",\n",
    ")"
   ]
  },
  {
   "cell_type": "markdown",
   "id": "27a2a7df",
   "metadata": {},
   "source": [
    "Now we can just zoom in around the time of interest:"
   ]
  },
  {
   "cell_type": "code",
   "execution_count": null,
   "id": "02c9a692",
   "metadata": {},
   "outputs": [],
   "source": [
    "axes = plot.gca()\n",
    "axes.set_xlim(gps-.4, gps+.2)\n",
    "plot"
   ]
  },
  {
   "cell_type": "markdown",
   "id": "7709dfc4",
   "metadata": {},
   "source": [
    "Now we can see the unmistakable signature of a binary black hole merger.\n",
    "This is the first binary black hole system ever observed!\n",
    "\n",
    "You can see this example in more detail [here](https://gwpy.github.io/docs/stable/examples/signal/gw150914.html) as part of the GWpy online documentation Examples."
   ]
  },
  {
   "cell_type": "markdown",
   "id": "b54aa46c",
   "metadata": {},
   "source": [
    "## Recap\n",
    "\n",
    "In this tutorial we have seen\n",
    "\n",
    "- GW detector data are noisy, with dominant contributions from high and low frequencies\n",
    "- we can filter out these extremes using a 'bandpass' filter\n",
    "- we can also remove noise from narrow lines using a 'notch' filter\n",
    "- if you apply these to the LIGO-Hanford data around GW150914, you can extract a real gravitational-wave signal"
   ]
  },
  {
   "cell_type": "markdown",
   "id": "9f5dc0f2",
   "metadata": {},
   "source": [
    "## Further reading\n",
    "\n",
    "This notebook, and the previous ones, represent a tiny, extremely dense introduction to gravitational waves and data analysis in Python.\n",
    "\n",
    "### The GWODW series\n",
    "\n",
    "These materials were based on a larger set of content developed over the last few years for the [Gravitational-Wave Open Data Workshop series](https://www.gw-openscience.org/workshops/).\n",
    "\n",
    "If you are interested, I encourage you to dive into the full tutorial set for the most recent [Open Data Workshop (ODW)](https://www.gw-openscience.org/static/workshop4/).\n",
    "This workshop included many hours of excellent talks, which explain more of the science behind the methods we have seen here.\n",
    "\n",
    "The online tutorials are all similarly based on jupyter notebooks, which can be found on GitHub here:\n",
    "\n",
    "<https://github.com/gw-odw/odw-2021/>\n",
    "\n",
    "The tutorials can be run interactively online using google CoLab:\n",
    "\n",
    "<https://colab.research.google.com/github/gw-odw/odw-2021/>\n",
    "\n",
    "or on your own machine by cloning the git repository and spinning up jupyter locally:\n",
    "\n",
    "```bash\n",
    "git clone https://github.com/gw-odw/odw-2021.git\n",
    "cd odw-2021\n",
    "jupyter-notebook\n",
    "```\n",
    "\n",
    "### GWpy's online examples\n",
    "\n",
    "The [GWpy online documentation](https://gwpy.github.io) comes with a large set of [worked examples](https://gwpy.github.io/docs/stable/examples/) that demonstrate using the powerful data access, signal processing, and visualisation methods available.\n",
    "\n",
    "### Other python packages: PyCBC\n",
    "\n",
    "While GWpy provides generic tools for exploring gravitational-wave data, the excellent [PyCBC](https://pycbc.org) project provides a Python library and associated workflows for detecting and studying gravitational-wave signals from compact binary coalescences (CBCs).\n",
    "\n",
    "The online documentation for PyCBC goes also includes a rich set of worked examples that go through the techniques that are used by GW researchers to detect real signals, using the actual code we use to do it.\n",
    "Central to that is a technique called the 'matched filter', which is used to estimate how well the detector data match up with a pre-computed model waveform. This is the cornerstone to all of our detections to date!\n",
    "\n",
    "### Questions and feedback\n",
    "\n",
    "I welcome any feedback you have on these tutorials, and am happy to receive any questions you have as well.\n",
    "All of the Python projects we have used today are hosted on GitHub:\n",
    "\n",
    "- https://github.com/gwpy/gwpy\n",
    "- https://github.com/gwpy/gwosc\n",
    "- https://github.com/gwastro/pycbc\n",
    "\n",
    "On those pages you can open 'issues' to ask questions on any aspect of those projects, and receive answers directly from the experts.\n",
    "\n",
    "I am happy to receive questions by email: macleoddm@cardiff.ac.uk.\n",
    "\n",
    "Thank you."
   ]
  }
 ],
 "metadata": {
  "kernelspec": {
   "display_name": "Python 3 (ipykernel)",
   "language": "python",
   "name": "python3"
  },
  "language_info": {
   "codemirror_mode": {
    "name": "ipython",
    "version": 3
   },
   "file_extension": ".py",
   "mimetype": "text/x-python",
   "name": "python",
   "nbconvert_exporter": "python",
   "pygments_lexer": "ipython3",
   "version": "3.9.4"
  }
 },
 "nbformat": 4,
 "nbformat_minor": 5
}
