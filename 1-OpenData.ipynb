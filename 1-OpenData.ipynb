{
 "cells": [
  {
   "cell_type": "code",
   "execution_count": null,
   "id": "75421e68",
   "metadata": {},
   "outputs": [],
   "source": [
    "# this just replaces the builtin `print` function with IPython's `display` function\n",
    "# which is better at printing long lists of things;\n",
    "# feel free to ignore this, and don't try and run it outside of jupyter or ipython\n",
    "from IPython.display import display as print"
   ]
  },
  {
   "cell_type": "markdown",
   "id": "73ed478a",
   "metadata": {},
   "source": [
    "# Gravitational wave 'Open Data'\n",
    "\n",
    "The KAGRA, LIGO, and Virgo projects are all funded by government research funding agencies, and so have a responsibility and an obligation to publish not only their results but also their data, in effect to give it back to the taxpayer.\n",
    "\n",
    "The [Gravitational-Wave Open Science Center](https://gw-openscience.org) (GWOSC) is jointly operated by the collaborations as the place where data are made available.\n",
    "\n",
    "When new detections ('_events_) are published, an hour (or so) of data are made freely available by GWOSC, and eventually the full observing data set is released (after 18 months of restricted access).\n",
    "\n",
    "The event datasets are grouped into _catalogues_, called 'GWTC-1' and 'GWTC-2'. In the future 'GWTC-3' will be release, and so on."
   ]
  },
  {
   "cell_type": "markdown",
   "id": "d4ba7eb6",
   "metadata": {},
   "source": [
    "## How can I get the data?\n",
    "\n",
    "The GWOSC [Event Portal](https://www.gw-openscience.org/eventapi/) can be used to see what data are available.\n",
    "\n",
    "Example event page: [GW150914](https://www.gw-openscience.org/eventapi/html/GWTC-1-confident/GW150914/v3/)\n",
    "\n",
    "However, you can do much more with the data if you use [Python](https://python.org)!"
   ]
  },
  {
   "cell_type": "markdown",
   "id": "cbd10a8b",
   "metadata": {},
   "source": [
    "## `gwosc`, the Python interface to GWOSC\n",
    "\n",
    "While you can use the GWOSC website to find and download data, that can be slow with lots of clicking around to find what you want.\n",
    "\n",
    "The [`gwosc`](https://gwosc.readthedocs.io) Python package can be used to simplify or automate most of that.\n",
    "\n",
    "First, we have to install it, for that we can use [`pip`](https://pip.pypa.io/)."
   ]
  },
  {
   "cell_type": "code",
   "execution_count": null,
   "id": "efb6254e",
   "metadata": {},
   "outputs": [],
   "source": [
    "# this is just a fancy version of 'pip install gwosc' for use inside a jupyter notebook\n",
    "import sys\n",
    "!{sys.executable} -m pip install gwosc==0.5.8"
   ]
  },
  {
   "cell_type": "markdown",
   "id": "cf3bdeb5",
   "metadata": {},
   "source": [
    "<div class=\"alert alert-info\">\n",
    "    You can use <a href=\"https://conda.io\" target=\"_blank\"><code>conda</code></a> instead if you like to install <code>gwosc</code>, it will do the same thing (only better than <code>pip</code>), in a notebook you would want to use a command like this: <code>conda install --yes --prefix {sys.prefix} gwosc=0.5.8</code>.\n",
    "</div>\n",
    "\n",
    "Now that it has installed, we can `import` it and start working:"
   ]
  },
  {
   "cell_type": "code",
   "execution_count": null,
   "id": "bdabd568",
   "metadata": {},
   "outputs": [],
   "source": [
    "import gwosc\n",
    "help(gwosc)"
   ]
  },
  {
   "cell_type": "markdown",
   "id": "39caec45",
   "metadata": {},
   "source": [
    "## Querying for datasets with `gwosc`\n",
    "\n",
    "In order to discover what data are available, we can use the functions in the [`gwosc.datasets`](https://gwosc.readthedocs.io/en/latest/datasets.html) module:"
   ]
  },
  {
   "cell_type": "code",
   "execution_count": null,
   "id": "39451901",
   "metadata": {},
   "outputs": [],
   "source": [
    "from gwosc import datasets\n",
    "help(datasets)"
   ]
  },
  {
   "cell_type": "markdown",
   "id": "4f53a296",
   "metadata": {},
   "source": [
    "Following the example from the `help` message, we can discover the available datasets using the `find_datasets` function:"
   ]
  },
  {
   "cell_type": "code",
   "execution_count": null,
   "id": "99f19280",
   "metadata": {},
   "outputs": [],
   "source": [
    "print(datasets.find_datasets())"
   ]
  },
  {
   "cell_type": "markdown",
   "id": "1895bce3",
   "metadata": {},
   "source": [
    "This includes _everything_ available, including datasets of different types:\n",
    "\n",
    "- `event`: data around individual signal detections\n",
    "- `run`: bulk data for an entire observing period\n",
    "- `catalog`: groups of detections (roughly grouped by observing period)\n",
    "\n",
    "To see just the 'event' datasets:"
   ]
  },
  {
   "cell_type": "code",
   "execution_count": null,
   "id": "c271ed3d",
   "metadata": {},
   "outputs": [],
   "source": [
    "print(datasets.find_datasets(type=\"event\"))"
   ]
  },
  {
   "cell_type": "markdown",
   "id": "95d97436",
   "metadata": {},
   "source": [
    "Here we can see the success of gravitational-wave detectors just by the number of different event datasets available.\n",
    "\n",
    "Those with the prefix `GW` are so-called 'confident' detections where we are sure that the signal came from a real merger event, and those without are 'marginal' detections where we aren't so sure (but hopeful!).\n",
    "\n",
    "Let's see the different catalogues that are available:"
   ]
  },
  {
   "cell_type": "code",
   "execution_count": null,
   "id": "8dfd8ab0",
   "metadata": {},
   "outputs": [],
   "source": [
    "print(datasets.find_datasets(type='catalog'))"
   ]
  },
  {
   "cell_type": "markdown",
   "id": "d4f8a132",
   "metadata": {},
   "source": [
    "We can filter the events by name and detector to see just the datasets for confident events that were seen by the LIGO-Livingston detector (labelled _L1_):"
   ]
  },
  {
   "cell_type": "code",
   "execution_count": null,
   "id": "7b0891f9",
   "metadata": {},
   "outputs": [],
   "source": [
    "l1events = datasets.find_datasets(type='event', match=\"GW\", detector='L1')\n",
    "print(l1events)"
   ]
  },
  {
   "cell_type": "markdown",
   "id": "2a314442",
   "metadata": {},
   "source": [
    "<div class=\"alert alert-warning\">If you look closely, you will see that some datasets are just different versions of data for the same event, e.g. <code>GW170814-v1</code>, <code>GW170814-v2</code>, and <code>GW170814-v3</code>, so be aware that not each of these represents a unique astrophysical phenomenon."
   ]
  },
  {
   "cell_type": "markdown",
   "id": "51cceacc",
   "metadata": {},
   "source": [
    "## Querying for event information\n",
    "\n",
    "As well as the `find_datasets` function, the `gwosc.datasets` module provides utilities for getting useful information about individual events, including the event time: "
   ]
  },
  {
   "cell_type": "code",
   "execution_count": null,
   "id": "21b1f13c",
   "metadata": {},
   "outputs": [],
   "source": [
    "print(datasets.event_gps('GW150914'))"
   ]
  },
  {
   "cell_type": "markdown",
   "id": "9a076ab4",
   "metadata": {},
   "source": [
    "All of these times are returned in the GPS time system, which counts the number of seconds that have elapsed since the start of the GPS epoch at midnight (00:00) on January 6th 1980. GWOSC provides a [GPS time converter](https://www.gw-openscience.org/gps/) you can use to translate into datetime, or you can use [`gwpy.time`](https://gwpy.github.io/docs/stable/time/)."
   ]
  },
  {
   "cell_type": "markdown",
   "id": "b77c321f",
   "metadata": {},
   "source": [
    "## Querying for data files\n",
    "\n",
    "Most of the time, what you really want is the data, not just metadata about the catalogs.\n",
    "The `gwosc.locate` module provides a function to discover the URLs of actual data files hosted by GWOSC.\n",
    "\n",
    "For event datasets, you just need to pass the event name to the `get_event_urls` function:"
   ]
  },
  {
   "cell_type": "code",
   "execution_count": null,
   "id": "1f3c9d87",
   "metadata": {},
   "outputs": [],
   "source": [
    "from gwosc import locate\n",
    "urls = locate.get_event_urls(\"GW150914\")\n",
    "print(urls)"
   ]
  },
  {
   "cell_type": "markdown",
   "id": "6e6447b0",
   "metadata": {},
   "source": [
    "By default, this function returns all of the files associated with a given event, which may not be particularly helpful. However, we can can filter on any of these by using keyword arguments, for example to get the URL for the 32-second file for the LIGO-Livingston detector:"
   ]
  },
  {
   "cell_type": "code",
   "execution_count": null,
   "id": "6762d879",
   "metadata": {},
   "outputs": [],
   "source": [
    "urls = locate.get_event_urls('GW150914', duration=32, detector='L1')\n",
    "print(urls)"
   ]
  },
  {
   "cell_type": "markdown",
   "id": "209846f8",
   "metadata": {},
   "source": [
    "The [HDF5](https://www.hdfgroup.org/solutions/hdf5/) file linked here is a publicly-available file that contains _real_ data from the LIGO-Livingston gravitational-wave detector - real data that includes a _real_ gravitational-wave signal from the first-ever direct observation of a binary black hole!"
   ]
  },
  {
   "cell_type": "markdown",
   "id": "d0d9e20b",
   "metadata": {},
   "source": [
    "## Recap\n",
    "\n",
    "What have we learned:\n",
    "\n",
    "- the `gwosc` Python package provides a programmatic way of querying for GW open datasets\n",
    "- it can be used to discover data for 'events', 'catalogs' and 'runs'\n",
    "- it provides utility functions to get the GPS time for an event, or the URL of data files\n",
    "\n",
    "In the next tutorial we will learn how the GWpy Python package can be used to actually download and interact with these data.\n",
    "\n",
    "<a class=\"btn btn-primary\" href=\"./2-GWpy.ipynb\" role=\"button\">Click here</a> to open the next notebook."
   ]
  }
 ],
 "metadata": {
  "kernelspec": {
   "display_name": "Python 3 (ipykernel)",
   "language": "python",
   "name": "python3"
  },
  "language_info": {
   "codemirror_mode": {
    "name": "ipython",
    "version": 3
   },
   "file_extension": ".py",
   "mimetype": "text/x-python",
   "name": "python",
   "nbconvert_exporter": "python",
   "pygments_lexer": "ipython3",
   "version": "3.9.4"
  }
 },
 "nbformat": 4,
 "nbformat_minor": 5
}
